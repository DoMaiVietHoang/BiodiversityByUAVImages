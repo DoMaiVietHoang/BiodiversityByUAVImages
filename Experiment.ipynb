{
 "cells": [
  {
   "cell_type": "markdown",
   "metadata": {},
   "source": [
    "### Library"
   ]
  },
  {
   "cell_type": "code",
   "execution_count": 388,
   "metadata": {},
   "outputs": [],
   "source": [
    "import torch\n",
    "import torch.optim as optim\n",
    "import numpy as np\n",
    "import seaborn as sns\n",
    "import torchvision\n",
    "import pandas as pd\n",
    "from torchvision import transforms, datasets\n",
    "import torch.nn as nn\n",
    "import torchvision.models as models\n",
    "from torchsummary import summary\n",
    "import matplotlib as plt\n",
    "from torch.utils.data import DataLoader, SubsetRandomSampler"
   ]
  },
  {
   "cell_type": "code",
   "execution_count": 389,
   "metadata": {},
   "outputs": [
    {
     "data": {
      "text/plain": [
       "device(type='cuda')"
      ]
     },
     "execution_count": 389,
     "metadata": {},
     "output_type": "execute_result"
    }
   ],
   "source": [
    "device = torch.device(\"cuda\" if torch.cuda.is_available() else \"cpu\")\n",
    "device"
   ]
  },
  {
   "cell_type": "code",
   "execution_count": 390,
   "metadata": {},
   "outputs": [],
   "source": [
    "data_dir = './Data'"
   ]
  },
  {
   "cell_type": "markdown",
   "metadata": {},
   "source": [
    "### Metrics"
   ]
  },
  {
   "cell_type": "code",
   "execution_count": 391,
   "metadata": {},
   "outputs": [],
   "source": [
    "e_pochs = 100\n",
    "l_r=0.0001\n",
    "batch_size = 8\n",
    "criter = nn.CrossEntropyLoss()\n"
   ]
  },
  {
   "cell_type": "markdown",
   "metadata": {},
   "source": [
    "### Data processing\n"
   ]
  },
  {
   "cell_type": "code",
   "execution_count": 392,
   "metadata": {},
   "outputs": [
    {
     "data": {
      "text/plain": [
       "{'agronyem_repens': 0,\n",
       " 'ailanto': 1,\n",
       " 'arrenatereto': 2,\n",
       " 'artemisia_verlotorum': 3,\n",
       " 'populus_nigra': 4,\n",
       " 'rubus_caesius': 5,\n",
       " 'ulmus_minor': 6}"
      ]
     },
     "execution_count": 392,
     "metadata": {},
     "output_type": "execute_result"
    }
   ],
   "source": [
    "dataset = datasets.ImageFolder(data_dir)\n",
    "dataset.class_to_idx"
   ]
  },
  {
   "cell_type": "code",
   "execution_count": 393,
   "metadata": {},
   "outputs": [],
   "source": [
    "size = len(dataset)\n",
    "indices = list(range(size))\n",
    "np.random.shuffle(indices)"
   ]
  },
  {
   "cell_type": "code",
   "execution_count": 394,
   "metadata": {},
   "outputs": [
    {
     "data": {
      "text/plain": [
       "7"
      ]
     },
     "execution_count": 394,
     "metadata": {},
     "output_type": "execute_result"
    }
   ],
   "source": [
    "num_class =len(dataset.classes)\n",
    "num_class"
   ]
  },
  {
   "cell_type": "code",
   "execution_count": 395,
   "metadata": {},
   "outputs": [
    {
     "name": "stdout",
     "output_type": "stream",
     "text": [
      "Class 'agronyem_repens' contains 119 images.\n",
      "Class 'ailanto' contains 121 images.\n",
      "Class 'arrenatereto' contains 82 images.\n",
      "Class 'artemisia_verlotorum' contains 139 images.\n",
      "Class 'populus_nigra' contains 128 images.\n",
      "Class 'rubus_caesius' contains 102 images.\n",
      "Class 'ulmus_minor' contains 91 images.\n"
     ]
    }
   ],
   "source": [
    "class_image_counts = {c: 0 for c in dataset.classes}\n",
    "for img, label in dataset:\n",
    "    class_image_counts[dataset.classes[label]] += 1\n",
    "for c, count in class_image_counts.items():\n",
    "    print(f\"Class '{c}' contains {count} images.\")\n"
   ]
  },
  {
   "cell_type": "code",
   "execution_count": 396,
   "metadata": {},
   "outputs": [
    {
     "data": {
      "text/plain": [
       "['AugMix',\n",
       " 'AutoAugment',\n",
       " 'AutoAugmentPolicy',\n",
       " 'CenterCrop',\n",
       " 'ColorJitter',\n",
       " 'Compose',\n",
       " 'ConvertImageDtype',\n",
       " 'ElasticTransform',\n",
       " 'FiveCrop',\n",
       " 'GaussianBlur',\n",
       " 'Grayscale',\n",
       " 'InterpolationMode',\n",
       " 'Lambda',\n",
       " 'LinearTransformation',\n",
       " 'Normalize',\n",
       " 'PILToTensor',\n",
       " 'Pad',\n",
       " 'RandAugment',\n",
       " 'RandomAdjustSharpness',\n",
       " 'RandomAffine',\n",
       " 'RandomApply',\n",
       " 'RandomAutocontrast',\n",
       " 'RandomChoice',\n",
       " 'RandomCrop',\n",
       " 'RandomEqualize',\n",
       " 'RandomErasing',\n",
       " 'RandomGrayscale',\n",
       " 'RandomHorizontalFlip',\n",
       " 'RandomInvert',\n",
       " 'RandomOrder',\n",
       " 'RandomPerspective',\n",
       " 'RandomPosterize',\n",
       " 'RandomResizedCrop',\n",
       " 'RandomRotation',\n",
       " 'RandomSolarize',\n",
       " 'RandomVerticalFlip',\n",
       " 'Resize',\n",
       " 'TenCrop',\n",
       " 'ToPILImage',\n",
       " 'ToTensor',\n",
       " 'TrivialAugmentWide',\n",
       " '__builtins__',\n",
       " '__cached__',\n",
       " '__doc__',\n",
       " '__file__',\n",
       " '__loader__',\n",
       " '__name__',\n",
       " '__package__',\n",
       " '__path__',\n",
       " '__spec__',\n",
       " '_functional_pil',\n",
       " '_functional_tensor',\n",
       " '_presets',\n",
       " 'autoaugment',\n",
       " 'functional',\n",
       " 'transforms']"
      ]
     },
     "execution_count": 396,
     "metadata": {},
     "output_type": "execute_result"
    }
   ],
   "source": [
    "dir(transforms)"
   ]
  },
  {
   "cell_type": "code",
   "execution_count": 397,
   "metadata": {},
   "outputs": [],
   "source": [
    "preprocess = transforms.Compose([\n",
    "    transforms.Resize(224),\n",
    "    transforms.ToTensor(),\n",
    "    transforms.Normalize(\n",
    "        mean=[0.485, 0.456, 0.406],\n",
    "        std=[0.229, 0.224, 0.225])\n",
    "])"
   ]
  },
  {
   "cell_type": "code",
   "execution_count": 410,
   "metadata": {},
   "outputs": [
    {
     "data": {
      "text/plain": [
       "(tensor([[[-0.9363, -0.6109, -0.0287,  ..., -2.1179, -2.1179, -2.1179],\n",
       "          [-0.8507, -0.4226,  0.2796,  ..., -2.1179, -2.1179, -2.1179],\n",
       "          [-0.7479, -0.2171,  0.6049,  ..., -2.1179, -2.1179, -2.1179],\n",
       "          ...,\n",
       "          [ 0.1083, -0.3883, -0.7650,  ..., -1.8439, -1.7754, -1.6727],\n",
       "          [ 0.2967, -0.1828, -0.5424,  ..., -1.7583, -1.7583, -1.7240],\n",
       "          [ 0.3994, -0.0287, -0.3712,  ..., -1.6213, -1.6898, -1.7583]],\n",
       " \n",
       "         [[-0.6001, -0.2850,  0.2927,  ..., -2.0357, -2.0357, -2.0357],\n",
       "          [-0.5126, -0.0924,  0.6078,  ..., -2.0357, -2.0357, -2.0357],\n",
       "          [-0.4251,  0.1001,  0.9230,  ..., -2.0357, -2.0357, -2.0357],\n",
       "          ...,\n",
       "          [ 0.7479,  0.2402, -0.1450,  ..., -1.7556, -1.7381, -1.6681],\n",
       "          [ 0.9055,  0.4328,  0.0651,  ..., -1.7031, -1.7731, -1.7906],\n",
       "          [ 0.9930,  0.5728,  0.2402,  ..., -1.6155, -1.7556, -1.8606]],\n",
       " \n",
       "         [[-1.5779, -1.1421, -0.3753,  ..., -1.8044, -1.8044, -1.8044],\n",
       "          [-1.5430, -1.0027, -0.0964,  ..., -1.8044, -1.8044, -1.8044],\n",
       "          [-1.5256, -0.8807,  0.1476,  ..., -1.8044, -1.8044, -1.8044],\n",
       "          ...,\n",
       "          [-0.0267, -0.5147, -0.8633,  ..., -1.4907, -1.3687, -1.2467],\n",
       "          [ 0.2173, -0.2532, -0.5844,  ..., -1.4036, -1.3687, -1.3339],\n",
       "          [ 0.3742, -0.0441, -0.3753,  ..., -1.2990, -1.3339, -1.3861]]]),\n",
       " 0)"
      ]
     },
     "execution_count": 410,
     "metadata": {},
     "output_type": "execute_result"
    }
   ],
   "source": [
    "data = datasets.ImageFolder(root = data_dir, transform = preprocess)\n"
   ]
  },
  {
   "cell_type": "code",
   "execution_count": 399,
   "metadata": {},
   "outputs": [
    {
     "data": {
      "text/plain": [
       "156"
      ]
     },
     "execution_count": 399,
     "metadata": {},
     "output_type": "execute_result"
    }
   ],
   "source": [
    "test_split_index = int(np.floor(0.2 * size))\n",
    "test_split_index"
   ]
  },
  {
   "cell_type": "code",
   "execution_count": 400,
   "metadata": {},
   "outputs": [],
   "source": [
    "test_idx  = indices[:test_split_index]\n",
    "train_idx = indices[test_split_index:]\n",
    "train_sampler = SubsetRandomSampler(train_idx)\n",
    "test_sampler  = SubsetRandomSampler(test_idx)"
   ]
  },
  {
   "cell_type": "code",
   "execution_count": 401,
   "metadata": {},
   "outputs": [],
   "source": [
    "train_loader = DataLoader(dataset=data, shuffle=False, batch_size=8)\n",
    "     "
   ]
  },
  {
   "cell_type": "code",
   "execution_count": 402,
   "metadata": {},
   "outputs": [
    {
     "data": {
      "text/plain": [
       "dict_items([('agronyem_repens', 0), ('ailanto', 1), ('arrenatereto', 2), ('artemisia_verlotorum', 3), ('populus_nigra', 4), ('rubus_caesius', 5), ('ulmus_minor', 6)])"
      ]
     },
     "execution_count": 402,
     "metadata": {},
     "output_type": "execute_result"
    }
   ],
   "source": [
    "data.class_to_idx.items()"
   ]
  },
  {
   "cell_type": "code",
   "execution_count": 403,
   "metadata": {},
   "outputs": [],
   "source": [
    "idx_to_class = {v: k for k, v in data.class_to_idx.items()}\n",
    "def get_class_distribution_loaders(dataloader):\n",
    "  count_dict = {k:0 for k,v in data.class_to_idx.items()}\n",
    "  for input, label in dataloader:\n",
    "      label = label.item()\n",
    "      label = idx_to_class[label]\n",
    "      count_dict[str(label)] += 1    \n",
    "  return count_dict"
   ]
  },
  {
   "cell_type": "markdown",
   "metadata": {},
   "source": [
    "### Models\n"
   ]
  },
  {
   "cell_type": "code",
   "execution_count": 404,
   "metadata": {},
   "outputs": [
    {
     "data": {
      "text/plain": [
       "['AlexNet',\n",
       " 'AlexNet_Weights',\n",
       " 'ConvNeXt',\n",
       " 'ConvNeXt_Base_Weights',\n",
       " 'ConvNeXt_Large_Weights',\n",
       " 'ConvNeXt_Small_Weights',\n",
       " 'ConvNeXt_Tiny_Weights',\n",
       " 'DenseNet',\n",
       " 'DenseNet121_Weights',\n",
       " 'DenseNet161_Weights',\n",
       " 'DenseNet169_Weights',\n",
       " 'DenseNet201_Weights',\n",
       " 'EfficientNet',\n",
       " 'EfficientNet_B0_Weights',\n",
       " 'EfficientNet_B1_Weights',\n",
       " 'EfficientNet_B2_Weights',\n",
       " 'EfficientNet_B3_Weights',\n",
       " 'EfficientNet_B4_Weights',\n",
       " 'EfficientNet_B5_Weights',\n",
       " 'EfficientNet_B6_Weights',\n",
       " 'EfficientNet_B7_Weights',\n",
       " 'EfficientNet_V2_L_Weights',\n",
       " 'EfficientNet_V2_M_Weights',\n",
       " 'EfficientNet_V2_S_Weights',\n",
       " 'GoogLeNet',\n",
       " 'GoogLeNetOutputs',\n",
       " 'GoogLeNet_Weights',\n",
       " 'Inception3',\n",
       " 'InceptionOutputs',\n",
       " 'Inception_V3_Weights',\n",
       " 'MNASNet',\n",
       " 'MNASNet0_5_Weights',\n",
       " 'MNASNet0_75_Weights',\n",
       " 'MNASNet1_0_Weights',\n",
       " 'MNASNet1_3_Weights',\n",
       " 'MaxVit',\n",
       " 'MaxVit_T_Weights',\n",
       " 'MobileNetV2',\n",
       " 'MobileNetV3',\n",
       " 'MobileNet_V2_Weights',\n",
       " 'MobileNet_V3_Large_Weights',\n",
       " 'MobileNet_V3_Small_Weights',\n",
       " 'RegNet',\n",
       " 'RegNet_X_16GF_Weights',\n",
       " 'RegNet_X_1_6GF_Weights',\n",
       " 'RegNet_X_32GF_Weights',\n",
       " 'RegNet_X_3_2GF_Weights',\n",
       " 'RegNet_X_400MF_Weights',\n",
       " 'RegNet_X_800MF_Weights',\n",
       " 'RegNet_X_8GF_Weights',\n",
       " 'RegNet_Y_128GF_Weights',\n",
       " 'RegNet_Y_16GF_Weights',\n",
       " 'RegNet_Y_1_6GF_Weights',\n",
       " 'RegNet_Y_32GF_Weights',\n",
       " 'RegNet_Y_3_2GF_Weights',\n",
       " 'RegNet_Y_400MF_Weights',\n",
       " 'RegNet_Y_800MF_Weights',\n",
       " 'RegNet_Y_8GF_Weights',\n",
       " 'ResNeXt101_32X8D_Weights',\n",
       " 'ResNeXt101_64X4D_Weights',\n",
       " 'ResNeXt50_32X4D_Weights',\n",
       " 'ResNet',\n",
       " 'ResNet101_Weights',\n",
       " 'ResNet152_Weights',\n",
       " 'ResNet18_Weights',\n",
       " 'ResNet34_Weights',\n",
       " 'ResNet50_Weights',\n",
       " 'ShuffleNetV2',\n",
       " 'ShuffleNet_V2_X0_5_Weights',\n",
       " 'ShuffleNet_V2_X1_0_Weights',\n",
       " 'ShuffleNet_V2_X1_5_Weights',\n",
       " 'ShuffleNet_V2_X2_0_Weights',\n",
       " 'SqueezeNet',\n",
       " 'SqueezeNet1_0_Weights',\n",
       " 'SqueezeNet1_1_Weights',\n",
       " 'SwinTransformer',\n",
       " 'Swin_B_Weights',\n",
       " 'Swin_S_Weights',\n",
       " 'Swin_T_Weights',\n",
       " 'Swin_V2_B_Weights',\n",
       " 'Swin_V2_S_Weights',\n",
       " 'Swin_V2_T_Weights',\n",
       " 'VGG',\n",
       " 'VGG11_BN_Weights',\n",
       " 'VGG11_Weights',\n",
       " 'VGG13_BN_Weights',\n",
       " 'VGG13_Weights',\n",
       " 'VGG16_BN_Weights',\n",
       " 'VGG16_Weights',\n",
       " 'VGG19_BN_Weights',\n",
       " 'VGG19_Weights',\n",
       " 'ViT_B_16_Weights',\n",
       " 'ViT_B_32_Weights',\n",
       " 'ViT_H_14_Weights',\n",
       " 'ViT_L_16_Weights',\n",
       " 'ViT_L_32_Weights',\n",
       " 'VisionTransformer',\n",
       " 'Weights',\n",
       " 'WeightsEnum',\n",
       " 'Wide_ResNet101_2_Weights',\n",
       " 'Wide_ResNet50_2_Weights',\n",
       " '_GoogLeNetOutputs',\n",
       " '_InceptionOutputs',\n",
       " '__builtins__',\n",
       " '__cached__',\n",
       " '__doc__',\n",
       " '__file__',\n",
       " '__loader__',\n",
       " '__name__',\n",
       " '__package__',\n",
       " '__path__',\n",
       " '__spec__',\n",
       " '_api',\n",
       " '_meta',\n",
       " '_utils',\n",
       " 'alexnet',\n",
       " 'convnext',\n",
       " 'convnext_base',\n",
       " 'convnext_large',\n",
       " 'convnext_small',\n",
       " 'convnext_tiny',\n",
       " 'densenet',\n",
       " 'densenet121',\n",
       " 'densenet161',\n",
       " 'densenet169',\n",
       " 'densenet201',\n",
       " 'detection',\n",
       " 'efficientnet',\n",
       " 'efficientnet_b0',\n",
       " 'efficientnet_b1',\n",
       " 'efficientnet_b2',\n",
       " 'efficientnet_b3',\n",
       " 'efficientnet_b4',\n",
       " 'efficientnet_b5',\n",
       " 'efficientnet_b6',\n",
       " 'efficientnet_b7',\n",
       " 'efficientnet_v2_l',\n",
       " 'efficientnet_v2_m',\n",
       " 'efficientnet_v2_s',\n",
       " 'get_model',\n",
       " 'get_model_builder',\n",
       " 'get_model_weights',\n",
       " 'get_weight',\n",
       " 'googlenet',\n",
       " 'inception',\n",
       " 'inception_v3',\n",
       " 'list_models',\n",
       " 'maxvit',\n",
       " 'maxvit_t',\n",
       " 'mnasnet',\n",
       " 'mnasnet0_5',\n",
       " 'mnasnet0_75',\n",
       " 'mnasnet1_0',\n",
       " 'mnasnet1_3',\n",
       " 'mobilenet',\n",
       " 'mobilenet_v2',\n",
       " 'mobilenet_v3_large',\n",
       " 'mobilenet_v3_small',\n",
       " 'mobilenetv2',\n",
       " 'mobilenetv3',\n",
       " 'optical_flow',\n",
       " 'quantization',\n",
       " 'regnet',\n",
       " 'regnet_x_16gf',\n",
       " 'regnet_x_1_6gf',\n",
       " 'regnet_x_32gf',\n",
       " 'regnet_x_3_2gf',\n",
       " 'regnet_x_400mf',\n",
       " 'regnet_x_800mf',\n",
       " 'regnet_x_8gf',\n",
       " 'regnet_y_128gf',\n",
       " 'regnet_y_16gf',\n",
       " 'regnet_y_1_6gf',\n",
       " 'regnet_y_32gf',\n",
       " 'regnet_y_3_2gf',\n",
       " 'regnet_y_400mf',\n",
       " 'regnet_y_800mf',\n",
       " 'regnet_y_8gf',\n",
       " 'resnet',\n",
       " 'resnet101',\n",
       " 'resnet152',\n",
       " 'resnet18',\n",
       " 'resnet34',\n",
       " 'resnet50',\n",
       " 'resnext101_32x8d',\n",
       " 'resnext101_64x4d',\n",
       " 'resnext50_32x4d',\n",
       " 'segmentation',\n",
       " 'shufflenet_v2_x0_5',\n",
       " 'shufflenet_v2_x1_0',\n",
       " 'shufflenet_v2_x1_5',\n",
       " 'shufflenet_v2_x2_0',\n",
       " 'shufflenetv2',\n",
       " 'squeezenet',\n",
       " 'squeezenet1_0',\n",
       " 'squeezenet1_1',\n",
       " 'swin_b',\n",
       " 'swin_s',\n",
       " 'swin_t',\n",
       " 'swin_transformer',\n",
       " 'swin_v2_b',\n",
       " 'swin_v2_s',\n",
       " 'swin_v2_t',\n",
       " 'vgg',\n",
       " 'vgg11',\n",
       " 'vgg11_bn',\n",
       " 'vgg13',\n",
       " 'vgg13_bn',\n",
       " 'vgg16',\n",
       " 'vgg16_bn',\n",
       " 'vgg19',\n",
       " 'vgg19_bn',\n",
       " 'video',\n",
       " 'vision_transformer',\n",
       " 'vit_b_16',\n",
       " 'vit_b_32',\n",
       " 'vit_h_14',\n",
       " 'vit_l_16',\n",
       " 'vit_l_32',\n",
       " 'wide_resnet101_2',\n",
       " 'wide_resnet50_2']"
      ]
     },
     "execution_count": 404,
     "metadata": {},
     "output_type": "execute_result"
    }
   ],
   "source": [
    "dir(models)"
   ]
  },
  {
   "cell_type": "code",
   "execution_count": 405,
   "metadata": {},
   "outputs": [],
   "source": [
    "EfficientNet = models.efficientnet_b7(weights= models.EfficientNet)"
   ]
  },
  {
   "cell_type": "code",
   "execution_count": 406,
   "metadata": {},
   "outputs": [
    {
     "name": "stdout",
     "output_type": "stream",
     "text": [
      "======================================================================\n",
      "Layer (type:depth-idx)                        Param #\n",
      "======================================================================\n",
      "├─Sequential: 1-1                             --\n",
      "|    └─Conv2dNormActivation: 2-1              --\n",
      "|    |    └─Conv2d: 3-1                       1,728\n",
      "|    |    └─BatchNorm2d: 3-2                  128\n",
      "|    |    └─SiLU: 3-3                         --\n",
      "|    └─Sequential: 2-2                        --\n",
      "|    |    └─MBConv: 3-4                       4,944\n",
      "|    |    └─MBConv: 3-5                       1,992\n",
      "|    |    └─MBConv: 3-6                       1,992\n",
      "|    |    └─MBConv: 3-7                       1,992\n",
      "|    └─Sequential: 2-3                        --\n",
      "|    |    └─MBConv: 3-8                       21,224\n",
      "|    |    └─MBConv: 3-9                       38,700\n",
      "|    |    └─MBConv: 3-10                      38,700\n",
      "|    |    └─MBConv: 3-11                      38,700\n",
      "|    |    └─MBConv: 3-12                      38,700\n",
      "|    |    └─MBConv: 3-13                      38,700\n",
      "|    |    └─MBConv: 3-14                      38,700\n",
      "|    └─Sequential: 2-4                        --\n",
      "|    |    └─MBConv: 3-15                      52,588\n",
      "|    |    └─MBConv: 3-16                      110,580\n",
      "|    |    └─MBConv: 3-17                      110,580\n",
      "|    |    └─MBConv: 3-18                      110,580\n",
      "|    |    └─MBConv: 3-19                      110,580\n",
      "|    |    └─MBConv: 3-20                      110,580\n",
      "|    |    └─MBConv: 3-21                      110,580\n",
      "|    └─Sequential: 2-5                        --\n",
      "|    |    └─MBConv: 3-22                      141,460\n",
      "|    |    └─MBConv: 3-23                      397,800\n",
      "|    |    └─MBConv: 3-24                      397,800\n",
      "|    |    └─MBConv: 3-25                      397,800\n",
      "|    |    └─MBConv: 3-26                      397,800\n",
      "|    |    └─MBConv: 3-27                      397,800\n",
      "|    |    └─MBConv: 3-28                      397,800\n",
      "|    |    └─MBConv: 3-29                      397,800\n",
      "|    |    └─MBConv: 3-30                      397,800\n",
      "|    |    └─MBConv: 3-31                      397,800\n",
      "|    └─Sequential: 2-6                        --\n",
      "|    |    └─MBConv: 3-32                      474,728\n",
      "|    |    └─MBConv: 3-33                      793,464\n",
      "|    |    └─MBConv: 3-34                      793,464\n",
      "|    |    └─MBConv: 3-35                      793,464\n",
      "|    |    └─MBConv: 3-36                      793,464\n",
      "|    |    └─MBConv: 3-37                      793,464\n",
      "|    |    └─MBConv: 3-38                      793,464\n",
      "|    |    └─MBConv: 3-39                      793,464\n",
      "|    |    └─MBConv: 3-40                      793,464\n",
      "|    |    └─MBConv: 3-41                      793,464\n",
      "|    └─Sequential: 2-7                        --\n",
      "|    |    └─MBConv: 3-42                      1,008,824\n",
      "|    |    └─MBConv: 3-43                      2,281,824\n",
      "|    |    └─MBConv: 3-44                      2,281,824\n",
      "|    |    └─MBConv: 3-45                      2,281,824\n",
      "|    |    └─MBConv: 3-46                      2,281,824\n",
      "|    |    └─MBConv: 3-47                      2,281,824\n",
      "|    |    └─MBConv: 3-48                      2,281,824\n",
      "|    |    └─MBConv: 3-49                      2,281,824\n",
      "|    |    └─MBConv: 3-50                      2,281,824\n",
      "|    |    └─MBConv: 3-51                      2,281,824\n",
      "|    |    └─MBConv: 3-52                      2,281,824\n",
      "|    |    └─MBConv: 3-53                      2,281,824\n",
      "|    |    └─MBConv: 3-54                      2,281,824\n",
      "|    └─Sequential: 2-8                        --\n",
      "|    |    └─MBConv: 3-55                      2,835,296\n",
      "|    |    └─MBConv: 3-56                      6,199,200\n",
      "|    |    └─MBConv: 3-57                      6,199,200\n",
      "|    |    └─MBConv: 3-58                      6,199,200\n",
      "|    └─Conv2dNormActivation: 2-9              --\n",
      "|    |    └─Conv2d: 3-59                      1,638,400\n",
      "|    |    └─BatchNorm2d: 3-60                 5,120\n",
      "|    |    └─SiLU: 3-61                        --\n",
      "├─AdaptiveAvgPool2d: 1-2                      --\n",
      "├─Sequential: 1-3                             --\n",
      "|    └─Dropout: 2-10                          --\n",
      "|    └─Linear: 2-11                           2,561,000\n",
      "======================================================================\n",
      "Total params: 66,347,960\n",
      "Trainable params: 66,347,960\n",
      "Non-trainable params: 0\n",
      "======================================================================\n"
     ]
    },
    {
     "data": {
      "text/plain": [
       "======================================================================\n",
       "Layer (type:depth-idx)                        Param #\n",
       "======================================================================\n",
       "├─Sequential: 1-1                             --\n",
       "|    └─Conv2dNormActivation: 2-1              --\n",
       "|    |    └─Conv2d: 3-1                       1,728\n",
       "|    |    └─BatchNorm2d: 3-2                  128\n",
       "|    |    └─SiLU: 3-3                         --\n",
       "|    └─Sequential: 2-2                        --\n",
       "|    |    └─MBConv: 3-4                       4,944\n",
       "|    |    └─MBConv: 3-5                       1,992\n",
       "|    |    └─MBConv: 3-6                       1,992\n",
       "|    |    └─MBConv: 3-7                       1,992\n",
       "|    └─Sequential: 2-3                        --\n",
       "|    |    └─MBConv: 3-8                       21,224\n",
       "|    |    └─MBConv: 3-9                       38,700\n",
       "|    |    └─MBConv: 3-10                      38,700\n",
       "|    |    └─MBConv: 3-11                      38,700\n",
       "|    |    └─MBConv: 3-12                      38,700\n",
       "|    |    └─MBConv: 3-13                      38,700\n",
       "|    |    └─MBConv: 3-14                      38,700\n",
       "|    └─Sequential: 2-4                        --\n",
       "|    |    └─MBConv: 3-15                      52,588\n",
       "|    |    └─MBConv: 3-16                      110,580\n",
       "|    |    └─MBConv: 3-17                      110,580\n",
       "|    |    └─MBConv: 3-18                      110,580\n",
       "|    |    └─MBConv: 3-19                      110,580\n",
       "|    |    └─MBConv: 3-20                      110,580\n",
       "|    |    └─MBConv: 3-21                      110,580\n",
       "|    └─Sequential: 2-5                        --\n",
       "|    |    └─MBConv: 3-22                      141,460\n",
       "|    |    └─MBConv: 3-23                      397,800\n",
       "|    |    └─MBConv: 3-24                      397,800\n",
       "|    |    └─MBConv: 3-25                      397,800\n",
       "|    |    └─MBConv: 3-26                      397,800\n",
       "|    |    └─MBConv: 3-27                      397,800\n",
       "|    |    └─MBConv: 3-28                      397,800\n",
       "|    |    └─MBConv: 3-29                      397,800\n",
       "|    |    └─MBConv: 3-30                      397,800\n",
       "|    |    └─MBConv: 3-31                      397,800\n",
       "|    └─Sequential: 2-6                        --\n",
       "|    |    └─MBConv: 3-32                      474,728\n",
       "|    |    └─MBConv: 3-33                      793,464\n",
       "|    |    └─MBConv: 3-34                      793,464\n",
       "|    |    └─MBConv: 3-35                      793,464\n",
       "|    |    └─MBConv: 3-36                      793,464\n",
       "|    |    └─MBConv: 3-37                      793,464\n",
       "|    |    └─MBConv: 3-38                      793,464\n",
       "|    |    └─MBConv: 3-39                      793,464\n",
       "|    |    └─MBConv: 3-40                      793,464\n",
       "|    |    └─MBConv: 3-41                      793,464\n",
       "|    └─Sequential: 2-7                        --\n",
       "|    |    └─MBConv: 3-42                      1,008,824\n",
       "|    |    └─MBConv: 3-43                      2,281,824\n",
       "|    |    └─MBConv: 3-44                      2,281,824\n",
       "|    |    └─MBConv: 3-45                      2,281,824\n",
       "|    |    └─MBConv: 3-46                      2,281,824\n",
       "|    |    └─MBConv: 3-47                      2,281,824\n",
       "|    |    └─MBConv: 3-48                      2,281,824\n",
       "|    |    └─MBConv: 3-49                      2,281,824\n",
       "|    |    └─MBConv: 3-50                      2,281,824\n",
       "|    |    └─MBConv: 3-51                      2,281,824\n",
       "|    |    └─MBConv: 3-52                      2,281,824\n",
       "|    |    └─MBConv: 3-53                      2,281,824\n",
       "|    |    └─MBConv: 3-54                      2,281,824\n",
       "|    └─Sequential: 2-8                        --\n",
       "|    |    └─MBConv: 3-55                      2,835,296\n",
       "|    |    └─MBConv: 3-56                      6,199,200\n",
       "|    |    └─MBConv: 3-57                      6,199,200\n",
       "|    |    └─MBConv: 3-58                      6,199,200\n",
       "|    └─Conv2dNormActivation: 2-9              --\n",
       "|    |    └─Conv2d: 3-59                      1,638,400\n",
       "|    |    └─BatchNorm2d: 3-60                 5,120\n",
       "|    |    └─SiLU: 3-61                        --\n",
       "├─AdaptiveAvgPool2d: 1-2                      --\n",
       "├─Sequential: 1-3                             --\n",
       "|    └─Dropout: 2-10                          --\n",
       "|    └─Linear: 2-11                           2,561,000\n",
       "======================================================================\n",
       "Total params: 66,347,960\n",
       "Trainable params: 66,347,960\n",
       "Non-trainable params: 0\n",
       "======================================================================"
      ]
     },
     "execution_count": 406,
     "metadata": {},
     "output_type": "execute_result"
    }
   ],
   "source": [
    "summary(EfficientNet)"
   ]
  },
  {
   "cell_type": "code",
   "execution_count": 407,
   "metadata": {},
   "outputs": [],
   "source": [
    "\n",
    "EfficientNet.classifier = nn.Sequential(\n",
    "    nn.Dropout(p=0.4),\n",
    "    nn.Linear(in_features=2046, out_features=num_class),\n",
    "    nn.Softmax(dim=1)\n",
    ")\n"
   ]
  },
  {
   "cell_type": "code",
   "execution_count": 411,
   "metadata": {},
   "outputs": [
    {
     "data": {
      "text/plain": [
       "<torch.utils.data.dataloader.DataLoader at 0x2440f1a1420>"
      ]
     },
     "execution_count": 411,
     "metadata": {},
     "output_type": "execute_result"
    }
   ],
   "source": [
    "train_loader"
   ]
  },
  {
   "cell_type": "code",
   "execution_count": 412,
   "metadata": {},
   "outputs": [
    {
     "name": "stdout",
     "output_type": "stream",
     "text": [
      "Unexpected exception formatting exception. Falling back to standard exception\n"
     ]
    },
    {
     "name": "stderr",
     "output_type": "stream",
     "text": [
      "Traceback (most recent call last):\n",
      "  File \"C:\\Users\\PC\\AppData\\Local\\Packages\\PythonSoftwareFoundation.Python.3.10_qbz5n2kfra8p0\\LocalCache\\local-packages\\Python310\\site-packages\\IPython\\core\\interactiveshell.py\", line 3460, in run_code\n",
      "    exec(code_obj, self.user_global_ns, self.user_ns)\n",
      "  File \"C:\\Users\\PC\\AppData\\Local\\Temp\\ipykernel_21908\\1654504871.py\", line 3, in <module>\n",
      "    for img, label in train_loader:\n",
      "  File \"C:\\Users\\PC\\AppData\\Local\\Packages\\PythonSoftwareFoundation.Python.3.10_qbz5n2kfra8p0\\LocalCache\\local-packages\\Python310\\site-packages\\torch\\utils\\data\\dataloader.py\", line 630, in __next__\n",
      "    data = self._next_data()\n",
      "  File \"C:\\Users\\PC\\AppData\\Local\\Packages\\PythonSoftwareFoundation.Python.3.10_qbz5n2kfra8p0\\LocalCache\\local-packages\\Python310\\site-packages\\torch\\utils\\data\\dataloader.py\", line 674, in _next_data\n",
      "    data = self._dataset_fetcher.fetch(index)  # may raise StopIteration\n",
      "  File \"C:\\Users\\PC\\AppData\\Local\\Packages\\PythonSoftwareFoundation.Python.3.10_qbz5n2kfra8p0\\LocalCache\\local-packages\\Python310\\site-packages\\torch\\utils\\data\\_utils\\fetch.py\", line 54, in fetch\n",
      "    return self.collate_fn(data)\n",
      "  File \"C:\\Users\\PC\\AppData\\Local\\Packages\\PythonSoftwareFoundation.Python.3.10_qbz5n2kfra8p0\\LocalCache\\local-packages\\Python310\\site-packages\\torch\\utils\\data\\_utils\\collate.py\", line 265, in default_collate\n",
      "    return collate(batch, collate_fn_map=default_collate_fn_map)\n",
      "  File \"C:\\Users\\PC\\AppData\\Local\\Packages\\PythonSoftwareFoundation.Python.3.10_qbz5n2kfra8p0\\LocalCache\\local-packages\\Python310\\site-packages\\torch\\utils\\data\\_utils\\collate.py\", line 142, in collate\n",
      "    return [collate(samples, collate_fn_map=collate_fn_map) for samples in transposed]  # Backwards compatibility.\n",
      "  File \"C:\\Users\\PC\\AppData\\Local\\Packages\\PythonSoftwareFoundation.Python.3.10_qbz5n2kfra8p0\\LocalCache\\local-packages\\Python310\\site-packages\\torch\\utils\\data\\_utils\\collate.py\", line 142, in <listcomp>\n",
      "    return [collate(samples, collate_fn_map=collate_fn_map) for samples in transposed]  # Backwards compatibility.\n",
      "  File \"C:\\Users\\PC\\AppData\\Local\\Packages\\PythonSoftwareFoundation.Python.3.10_qbz5n2kfra8p0\\LocalCache\\local-packages\\Python310\\site-packages\\torch\\utils\\data\\_utils\\collate.py\", line 119, in collate\n",
      "    return collate_fn_map[elem_type](batch, collate_fn_map=collate_fn_map)\n",
      "  File \"C:\\Users\\PC\\AppData\\Local\\Packages\\PythonSoftwareFoundation.Python.3.10_qbz5n2kfra8p0\\LocalCache\\local-packages\\Python310\\site-packages\\torch\\utils\\data\\_utils\\collate.py\", line 162, in collate_tensor_fn\n",
      "    return torch.stack(batch, 0, out=out)\n",
      "RuntimeError: stack expects each tensor to be equal size, but got [3, 224, 317] at entry 0 and [3, 224, 316] at entry 4\n",
      "\n",
      "During handling of the above exception, another exception occurred:\n",
      "\n",
      "Traceback (most recent call last):\n",
      "  File \"C:\\Users\\PC\\AppData\\Local\\Packages\\PythonSoftwareFoundation.Python.3.10_qbz5n2kfra8p0\\LocalCache\\local-packages\\Python310\\site-packages\\IPython\\core\\interactiveshell.py\", line 2057, in showtraceback\n",
      "    stb = self.InteractiveTB.structured_traceback(\n",
      "  File \"C:\\Users\\PC\\AppData\\Local\\Packages\\PythonSoftwareFoundation.Python.3.10_qbz5n2kfra8p0\\LocalCache\\local-packages\\Python310\\site-packages\\IPython\\core\\ultratb.py\", line 1288, in structured_traceback\n",
      "    return FormattedTB.structured_traceback(\n",
      "  File \"C:\\Users\\PC\\AppData\\Local\\Packages\\PythonSoftwareFoundation.Python.3.10_qbz5n2kfra8p0\\LocalCache\\local-packages\\Python310\\site-packages\\IPython\\core\\ultratb.py\", line 1177, in structured_traceback\n",
      "    return VerboseTB.structured_traceback(\n",
      "  File \"C:\\Users\\PC\\AppData\\Local\\Packages\\PythonSoftwareFoundation.Python.3.10_qbz5n2kfra8p0\\LocalCache\\local-packages\\Python310\\site-packages\\IPython\\core\\ultratb.py\", line 1030, in structured_traceback\n",
      "    formatted_exception = self.format_exception_as_a_whole(etype, evalue, etb, number_of_lines_of_context,\n",
      "  File \"C:\\Users\\PC\\AppData\\Local\\Packages\\PythonSoftwareFoundation.Python.3.10_qbz5n2kfra8p0\\LocalCache\\local-packages\\Python310\\site-packages\\IPython\\core\\ultratb.py\", line 935, in format_exception_as_a_whole\n",
      "    self.get_records(etb, number_of_lines_of_context, tb_offset) if etb else []\n",
      "  File \"C:\\Users\\PC\\AppData\\Local\\Packages\\PythonSoftwareFoundation.Python.3.10_qbz5n2kfra8p0\\LocalCache\\local-packages\\Python310\\site-packages\\IPython\\core\\ultratb.py\", line 987, in get_records\n",
      "    style = stack_data.style_with_executing_node(style, self._tb_highlight)\n",
      "  File \"C:\\Users\\PC\\AppData\\Local\\Packages\\PythonSoftwareFoundation.Python.3.10_qbz5n2kfra8p0\\LocalCache\\local-packages\\Python310\\site-packages\\stack_data\\core.py\", line 455, in style_with_executing_node\n",
      "    class NewStyle(style):\n",
      "  File \"C:\\Users\\PC\\AppData\\Local\\Packages\\PythonSoftwareFoundation.Python.3.10_qbz5n2kfra8p0\\LocalCache\\local-packages\\Python310\\site-packages\\pygments\\style.py\", line 91, in __new__\n",
      "    ndef[4] = colorformat(styledef[3:])\n",
      "  File \"C:\\Users\\PC\\AppData\\Local\\Packages\\PythonSoftwareFoundation.Python.3.10_qbz5n2kfra8p0\\LocalCache\\local-packages\\Python310\\site-packages\\pygments\\style.py\", line 58, in colorformat\n",
      "    assert False, \"wrong color format %r\" % text\n",
      "AssertionError: wrong color format 'ansiyellow'\n"
     ]
    }
   ],
   "source": [
    "optimizer = optim.SGD(EfficientNet.parameters(), lr=l_r)\n",
    "for ep in range(e_pochs):\n",
    "    for img, label in train_loader:\n",
    "        batch_size = img.shape[0]\n",
    "        out = EfficientNet(img.view(batch_size,-1))\n",
    "        loss = loss(out, torch.tensor([label]))\n",
    "        optimizer.zero_grad()\n",
    "        loss.backward()\n",
    "        optimizer.step()\n",
    "    print(\"Epoch: %d, Loss: %f\" % (ep, float(loss)))\n"
   ]
  }
 ],
 "metadata": {
  "kernelspec": {
   "display_name": "Python 3",
   "language": "python",
   "name": "python3"
  },
  "language_info": {
   "codemirror_mode": {
    "name": "ipython",
    "version": 3
   },
   "file_extension": ".py",
   "mimetype": "text/x-python",
   "name": "python",
   "nbconvert_exporter": "python",
   "pygments_lexer": "ipython3",
   "version": "3.10.11"
  }
 },
 "nbformat": 4,
 "nbformat_minor": 2
}
